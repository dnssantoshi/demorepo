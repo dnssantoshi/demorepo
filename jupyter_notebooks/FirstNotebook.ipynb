{
 "cells": [
  {
   "cell_type": "markdown",
   "metadata": {},
   "source": [
    "# Sample Header created with # in it\n",
    "\n",
    "*This text will be italicized*\n",
    "\n",
    "## This is a h2 type header\n",
    "\n",
    "Markdown is a lightweight markup language with plain text formatting syntax. ... Markdown is often used to format readme files, for writing messages in online discussion forums, and to create rich text using a plain text editor.\n",
    "\n",
    "Basic formatting for *italics* and **bold** is supported. This *can be **nested** like* so\n",
    "\n",
    "### What this Notebook shows h3 header\n",
    "\n",
    "1. How to get started with Notebooks\n",
    "2. How to execute code\n",
    "3. How to add markdown\n",
    "4. And some other cool stuff\n"
   ]
  },
  {
   "cell_type": "code",
   "execution_count": 31,
   "metadata": {},
   "outputs": [
    {
     "name": "stdout",
     "output_type": "stream",
     "text": [
      "Hello Data Enthusiasts!\n"
     ]
    }
   ],
   "source": [
    "print(\"Hello Data Enthusiasts!\")"
   ]
  },
  {
   "cell_type": "code",
   "execution_count": 32,
   "metadata": {},
   "outputs": [
    {
     "data": {
      "text/plain": [
       "'Hello Data Enthusiasts!'"
      ]
     },
     "execution_count": 32,
     "metadata": {},
     "output_type": "execute_result"
    }
   ],
   "source": [
    "\"Hello Data Enthusiasts!\""
   ]
  },
  {
   "cell_type": "code",
   "execution_count": 33,
   "metadata": {},
   "outputs": [
    {
     "name": "stdout",
     "output_type": "stream",
     "text": [
      "Hello Data Enthusiasts!\n"
     ]
    }
   ],
   "source": [
    "print(\"Hello Data Enthusiasts!\")\n"
   ]
  },
  {
   "cell_type": "code",
   "execution_count": 34,
   "metadata": {},
   "outputs": [],
   "source": [
    "name = 'Santoshi'"
   ]
  },
  {
   "cell_type": "code",
   "execution_count": 35,
   "metadata": {},
   "outputs": [
    {
     "data": {
      "text/plain": [
       "'Santoshi'"
      ]
     },
     "execution_count": 35,
     "metadata": {},
     "output_type": "execute_result"
    }
   ],
   "source": [
    "name"
   ]
  },
  {
   "cell_type": "code",
   "execution_count": 36,
   "metadata": {},
   "outputs": [],
   "source": [
    "name = 'Diddi'"
   ]
  },
  {
   "cell_type": "code",
   "execution_count": 37,
   "metadata": {},
   "outputs": [
    {
     "data": {
      "text/plain": [
       "'Do a Cells -> Run all will do correct this assignment'"
      ]
     },
     "execution_count": 37,
     "metadata": {},
     "output_type": "execute_result"
    }
   ],
   "source": [
    "'Do a Cells -> Run all will do correct this assignment'"
   ]
  },
  {
   "cell_type": "code",
   "execution_count": 38,
   "metadata": {},
   "outputs": [
    {
     "data": {
      "text/plain": [
       "'Did you see how the execution numbers lined up here? It executed from top to bottom'"
      ]
     },
     "execution_count": 38,
     "metadata": {},
     "output_type": "execute_result"
    }
   ],
   "source": [
    "'Did you see how the execution numbers lined up here? It executed from top to bottom'"
   ]
  },
  {
   "cell_type": "code",
   "execution_count": 39,
   "metadata": {},
   "outputs": [
    {
     "name": "stdout",
     "output_type": "stream",
     "text": [
      "Package                            Version \r\n",
      "---------------------------------- --------\r\n",
      "alabaster                          0.7.12  \r\n",
      "anaconda-client                    1.7.2   \r\n",
      "anaconda-navigator                 1.9.7   \r\n",
      "anaconda-project                   0.8.2   \r\n",
      "appnope                            0.1.0   \r\n",
      "appscript                          1.0.1   \r\n",
      "asn1crypto                         0.24.0  \r\n",
      "astroid                            2.2.5   \r\n",
      "astropy                            3.1.2   \r\n",
      "atomicwrites                       1.3.0   \r\n",
      "attrs                              19.1.0  \r\n",
      "Babel                              2.6.0   \r\n",
      "backcall                           0.1.0   \r\n",
      "backports.os                       0.1.1   \r\n",
      "backports.shutil-get-terminal-size 1.0.0   \r\n",
      "beautifulsoup4                     4.7.1   \r\n",
      "bitarray                           0.8.3   \r\n",
      "bkcharts                           0.2     \r\n",
      "bleach                             3.1.0   \r\n",
      "bokeh                              1.0.4   \r\n",
      "boto                               2.49.0  \r\n",
      "Bottleneck                         1.2.1   \r\n",
      "certifi                            2019.3.9\r\n",
      "cffi                               1.12.2  \r\n",
      "chardet                            3.0.4   \r\n",
      "Click                              7.0     \r\n",
      "cloudpickle                        0.8.0   \r\n",
      "clyent                             1.2.2   \r\n",
      "colorama                           0.4.1   \r\n",
      "conda                              4.6.11  \r\n",
      "conda-build                        3.17.8  \r\n",
      "conda-verify                       3.1.1   \r\n",
      "contextlib2                        0.5.5   \r\n",
      "cryptography                       2.6.1   \r\n",
      "cycler                             0.10.0  \r\n",
      "Cython                             0.29.6  \r\n",
      "cytoolz                            0.9.0.1 \r\n",
      "dask                               1.1.4   \r\n",
      "decorator                          4.4.0   \r\n",
      "defusedxml                         0.5.0   \r\n",
      "distributed                        1.26.0  \r\n",
      "docutils                           0.14    \r\n",
      "entrypoints                        0.3     \r\n",
      "et-xmlfile                         1.0.1   \r\n",
      "fastcache                          1.0.2   \r\n",
      "filelock                           3.0.10  \r\n",
      "Flask                              1.0.2   \r\n",
      "future                             0.17.1  \r\n",
      "gevent                             1.4.0   \r\n",
      "glob2                              0.6     \r\n",
      "gmpy2                              2.0.8   \r\n",
      "greenlet                           0.4.15  \r\n",
      "h5py                               2.9.0   \r\n",
      "heapdict                           1.0.0   \r\n",
      "html5lib                           1.0.1   \r\n",
      "idna                               2.8     \r\n",
      "imageio                            2.5.0   \r\n",
      "imagesize                          1.1.0   \r\n",
      "importlib-metadata                 0.0.0   \r\n",
      "ipykernel                          5.1.0   \r\n",
      "ipython                            7.4.0   \r\n",
      "ipython-genutils                   0.2.0   \r\n",
      "ipywidgets                         7.4.2   \r\n",
      "isort                              4.3.16  \r\n",
      "itsdangerous                       1.1.0   \r\n",
      "jdcal                              1.4     \r\n",
      "jedi                               0.13.3  \r\n",
      "Jinja2                             2.10    \r\n",
      "jsonschema                         3.0.1   \r\n",
      "jupyter                            1.0.0   \r\n",
      "jupyter-client                     5.2.4   \r\n",
      "jupyter-console                    6.0.0   \r\n",
      "jupyter-core                       4.4.0   \r\n",
      "jupyterlab                         0.35.4  \r\n",
      "jupyterlab-server                  0.2.0   \r\n",
      "jupyterthemes                      0.20.0  \r\n",
      "keyring                            18.0.0  \r\n",
      "kiwisolver                         1.0.1   \r\n",
      "lazy-object-proxy                  1.3.1   \r\n",
      "lesscpy                            0.13.0  \r\n",
      "libarchive-c                       2.8     \r\n",
      "lief                               0.9.0   \r\n",
      "llvmlite                           0.28.0  \r\n",
      "locket                             0.2.0   \r\n",
      "lxml                               4.3.2   \r\n",
      "MarkupSafe                         1.1.1   \r\n",
      "matplotlib                         3.0.3   \r\n",
      "mccabe                             0.6.1   \r\n",
      "mistune                            0.8.4   \r\n",
      "mkl-fft                            1.0.10  \r\n",
      "mkl-random                         1.0.2   \r\n",
      "more-itertools                     6.0.0   \r\n",
      "mpmath                             1.1.0   \r\n",
      "msgpack                            0.6.1   \r\n",
      "multipledispatch                   0.6.0   \r\n",
      "navigator-updater                  0.2.1   \r\n",
      "nbconvert                          5.4.1   \r\n",
      "nbformat                           4.4.0   \r\n",
      "networkx                           2.2     \r\n",
      "nltk                               3.4     \r\n",
      "nose                               1.3.7   \r\n",
      "notebook                           5.7.8   \r\n",
      "numba                              0.43.1  \r\n",
      "numexpr                            2.6.9   \r\n",
      "numpy                              1.16.2  \r\n",
      "numpydoc                           0.8.0   \r\n",
      "olefile                            0.46    \r\n",
      "openpyxl                           2.6.1   \r\n",
      "packaging                          19.0    \r\n",
      "pandas                             0.24.2  \r\n",
      "pandocfilters                      1.4.2   \r\n",
      "parso                              0.3.4   \r\n",
      "partd                              0.3.10  \r\n",
      "path.py                            11.5.0  \r\n",
      "pathlib2                           2.3.3   \r\n",
      "patsy                              0.5.1   \r\n",
      "pep8                               1.7.1   \r\n",
      "pexpect                            4.6.0   \r\n",
      "pickleshare                        0.7.5   \r\n",
      "Pillow                             5.4.1   \r\n",
      "pip                                19.0.3  \r\n",
      "pkginfo                            1.5.0.1 \r\n",
      "pluggy                             0.9.0   \r\n",
      "ply                                3.11    \r\n",
      "prometheus-client                  0.6.0   \r\n",
      "prompt-toolkit                     2.0.9   \r\n",
      "psutil                             5.6.1   \r\n",
      "ptyprocess                         0.6.0   \r\n",
      "py                                 1.8.0   \r\n",
      "pycodestyle                        2.5.0   \r\n",
      "pycosat                            0.6.3   \r\n",
      "pycparser                          2.19    \r\n",
      "pycrypto                           2.6.1   \r\n",
      "pycurl                             7.43.0.2\r\n",
      "pyflakes                           2.1.1   \r\n",
      "Pygments                           2.3.1   \r\n",
      "pylint                             2.3.1   \r\n",
      "pyodbc                             4.0.26  \r\n",
      "pyOpenSSL                          19.0.0  \r\n",
      "pyparsing                          2.3.1   \r\n",
      "pyrsistent                         0.14.11 \r\n",
      "PySocks                            1.6.8   \r\n",
      "pytest                             4.3.1   \r\n",
      "pytest-arraydiff                   0.3     \r\n",
      "pytest-astropy                     0.5.0   \r\n",
      "pytest-doctestplus                 0.3.0   \r\n",
      "pytest-openfiles                   0.3.2   \r\n",
      "pytest-remotedata                  0.3.1   \r\n",
      "python-dateutil                    2.8.0   \r\n",
      "pytz                               2018.9  \r\n",
      "PyWavelets                         1.0.2   \r\n",
      "PyYAML                             5.1     \r\n",
      "pyzmq                              18.0.0  \r\n",
      "QtAwesome                          0.5.7   \r\n",
      "qtconsole                          4.4.3   \r\n",
      "QtPy                               1.7.0   \r\n",
      "requests                           2.21.0  \r\n",
      "rope                               0.12.0  \r\n",
      "ruamel-yaml                        0.15.46 \r\n",
      "scikit-image                       0.14.2  \r\n",
      "scikit-learn                       0.20.3  \r\n",
      "scipy                              1.2.1   \r\n",
      "seaborn                            0.9.0   \r\n",
      "Send2Trash                         1.5.0   \r\n",
      "setuptools                         40.8.0  \r\n",
      "simplegeneric                      0.8.1   \r\n",
      "singledispatch                     3.4.0.3 \r\n",
      "six                                1.12.0  \r\n",
      "snowballstemmer                    1.2.1   \r\n",
      "sortedcollections                  1.1.2   \r\n",
      "sortedcontainers                   2.1.0   \r\n",
      "soupsieve                          1.8     \r\n",
      "Sphinx                             1.8.5   \r\n",
      "sphinxcontrib-websupport           1.1.0   \r\n",
      "spyder                             3.3.3   \r\n",
      "spyder-kernels                     0.4.2   \r\n",
      "SQLAlchemy                         1.3.1   \r\n",
      "statsmodels                        0.9.0   \r\n",
      "sympy                              1.3     \r\n",
      "tables                             3.5.1   \r\n",
      "tblib                              1.3.2   \r\n",
      "terminado                          0.8.1   \r\n",
      "testpath                           0.4.2   \r\n",
      "toolz                              0.9.0   \r\n",
      "tornado                            6.0.2   \r\n",
      "tqdm                               4.31.1  \r\n",
      "traitlets                          4.3.2   \r\n",
      "unicodecsv                         0.14.1  \r\n",
      "urllib3                            1.24.1  \r\n",
      "wcwidth                            0.1.7   \r\n",
      "webencodings                       0.5.1   \r\n",
      "Werkzeug                           0.14.1  \r\n",
      "wheel                              0.33.1  \r\n",
      "widgetsnbextension                 3.4.2   \r\n",
      "wrapt                              1.11.1  \r\n",
      "wurlitzer                          1.0.2   \r\n",
      "xlrd                               1.2.0   \r\n",
      "XlsxWriter                         1.1.5   \r\n",
      "xlwings                            0.15.4  \r\n",
      "xlwt                               1.3.0   \r\n",
      "zict                               0.1.4   \r\n",
      "zipp                               0.3.3   \r\n"
     ]
    }
   ],
   "source": [
    "!pip list"
   ]
  },
  {
   "cell_type": "code",
   "execution_count": 40,
   "metadata": {},
   "outputs": [
    {
     "data": {
      "application/json": {
       "cell": {
        "!": "OSMagics",
        "HTML": "Other",
        "SVG": "Other",
        "bash": "Other",
        "capture": "ExecutionMagics",
        "debug": "ExecutionMagics",
        "file": "Other",
        "html": "DisplayMagics",
        "javascript": "DisplayMagics",
        "js": "DisplayMagics",
        "latex": "DisplayMagics",
        "markdown": "DisplayMagics",
        "perl": "Other",
        "prun": "ExecutionMagics",
        "pypy": "Other",
        "python": "Other",
        "python2": "Other",
        "python3": "Other",
        "ruby": "Other",
        "script": "ScriptMagics",
        "sh": "Other",
        "svg": "DisplayMagics",
        "sx": "OSMagics",
        "system": "OSMagics",
        "time": "ExecutionMagics",
        "timeit": "ExecutionMagics",
        "writefile": "OSMagics"
       },
       "line": {
        "alias": "OSMagics",
        "alias_magic": "BasicMagics",
        "autoawait": "AsyncMagics",
        "autocall": "AutoMagics",
        "automagic": "AutoMagics",
        "autosave": "KernelMagics",
        "bookmark": "OSMagics",
        "cat": "Other",
        "cd": "OSMagics",
        "clear": "KernelMagics",
        "colors": "BasicMagics",
        "conda": "PackagingMagics",
        "config": "ConfigMagics",
        "connect_info": "KernelMagics",
        "cp": "Other",
        "debug": "ExecutionMagics",
        "dhist": "OSMagics",
        "dirs": "OSMagics",
        "doctest_mode": "BasicMagics",
        "ed": "Other",
        "edit": "KernelMagics",
        "env": "OSMagics",
        "gui": "BasicMagics",
        "hist": "Other",
        "history": "HistoryMagics",
        "killbgscripts": "ScriptMagics",
        "ldir": "Other",
        "less": "KernelMagics",
        "lf": "Other",
        "lk": "Other",
        "ll": "Other",
        "load": "CodeMagics",
        "load_ext": "ExtensionMagics",
        "loadpy": "CodeMagics",
        "logoff": "LoggingMagics",
        "logon": "LoggingMagics",
        "logstart": "LoggingMagics",
        "logstate": "LoggingMagics",
        "logstop": "LoggingMagics",
        "ls": "Other",
        "lsmagic": "BasicMagics",
        "lx": "Other",
        "macro": "ExecutionMagics",
        "magic": "BasicMagics",
        "man": "KernelMagics",
        "matplotlib": "PylabMagics",
        "mkdir": "Other",
        "more": "KernelMagics",
        "mv": "Other",
        "notebook": "BasicMagics",
        "page": "BasicMagics",
        "pastebin": "CodeMagics",
        "pdb": "ExecutionMagics",
        "pdef": "NamespaceMagics",
        "pdoc": "NamespaceMagics",
        "pfile": "NamespaceMagics",
        "pinfo": "NamespaceMagics",
        "pinfo2": "NamespaceMagics",
        "pip": "PackagingMagics",
        "popd": "OSMagics",
        "pprint": "BasicMagics",
        "precision": "BasicMagics",
        "prun": "ExecutionMagics",
        "psearch": "NamespaceMagics",
        "psource": "NamespaceMagics",
        "pushd": "OSMagics",
        "pwd": "OSMagics",
        "pycat": "OSMagics",
        "pylab": "PylabMagics",
        "qtconsole": "KernelMagics",
        "quickref": "BasicMagics",
        "recall": "HistoryMagics",
        "rehashx": "OSMagics",
        "reload_ext": "ExtensionMagics",
        "rep": "Other",
        "rerun": "HistoryMagics",
        "reset": "NamespaceMagics",
        "reset_selective": "NamespaceMagics",
        "rm": "Other",
        "rmdir": "Other",
        "run": "ExecutionMagics",
        "save": "CodeMagics",
        "sc": "OSMagics",
        "set_env": "OSMagics",
        "store": "StoreMagics",
        "sx": "OSMagics",
        "system": "OSMagics",
        "tb": "ExecutionMagics",
        "time": "ExecutionMagics",
        "timeit": "ExecutionMagics",
        "unalias": "OSMagics",
        "unload_ext": "ExtensionMagics",
        "who": "NamespaceMagics",
        "who_ls": "NamespaceMagics",
        "whos": "NamespaceMagics",
        "xdel": "NamespaceMagics",
        "xmode": "BasicMagics"
       }
      },
      "text/plain": [
       "Available line magics:\n",
       "%alias  %alias_magic  %autoawait  %autocall  %automagic  %autosave  %bookmark  %cat  %cd  %clear  %colors  %conda  %config  %connect_info  %cp  %debug  %dhist  %dirs  %doctest_mode  %ed  %edit  %env  %gui  %hist  %history  %killbgscripts  %ldir  %less  %lf  %lk  %ll  %load  %load_ext  %loadpy  %logoff  %logon  %logstart  %logstate  %logstop  %ls  %lsmagic  %lx  %macro  %magic  %man  %matplotlib  %mkdir  %more  %mv  %notebook  %page  %pastebin  %pdb  %pdef  %pdoc  %pfile  %pinfo  %pinfo2  %pip  %popd  %pprint  %precision  %prun  %psearch  %psource  %pushd  %pwd  %pycat  %pylab  %qtconsole  %quickref  %recall  %rehashx  %reload_ext  %rep  %rerun  %reset  %reset_selective  %rm  %rmdir  %run  %save  %sc  %set_env  %store  %sx  %system  %tb  %time  %timeit  %unalias  %unload_ext  %who  %who_ls  %whos  %xdel  %xmode\n",
       "\n",
       "Available cell magics:\n",
       "%%!  %%HTML  %%SVG  %%bash  %%capture  %%debug  %%file  %%html  %%javascript  %%js  %%latex  %%markdown  %%perl  %%prun  %%pypy  %%python  %%python2  %%python3  %%ruby  %%script  %%sh  %%svg  %%sx  %%system  %%time  %%timeit  %%writefile\n",
       "\n",
       "Automagic is ON, % prefix IS NOT needed for line magics."
      ]
     },
     "execution_count": 40,
     "metadata": {},
     "output_type": "execute_result"
    }
   ],
   "source": [
    "%lsmagic"
   ]
  },
  {
   "cell_type": "code",
   "execution_count": 41,
   "metadata": {},
   "outputs": [
    {
     "data": {
      "text/plain": [
       "'these are called line magics'"
      ]
     },
     "execution_count": 41,
     "metadata": {},
     "output_type": "execute_result"
    }
   ],
   "source": [
    "'these are called line magics'"
   ]
  },
  {
   "cell_type": "code",
   "execution_count": 42,
   "metadata": {},
   "outputs": [
    {
     "data": {
      "text/html": [
       "<h1> This is an \n",
       "HTML code <h1>\n"
      ],
      "text/plain": [
       "<IPython.core.display.HTML object>"
      ]
     },
     "metadata": {},
     "output_type": "display_data"
    }
   ],
   "source": [
    "%%HTML\n",
    "<h1> This is an \n",
    "HTML code <h1>"
   ]
  },
  {
   "cell_type": "code",
   "execution_count": 43,
   "metadata": {},
   "outputs": [
    {
     "data": {
      "text/plain": [
       "'these are called cell magics'"
      ]
     },
     "execution_count": 43,
     "metadata": {},
     "output_type": "execute_result"
    }
   ],
   "source": [
    "'these are called cell magics'"
   ]
  },
  {
   "cell_type": "code",
   "execution_count": 44,
   "metadata": {},
   "outputs": [
    {
     "data": {
      "text/plain": [
       "'/Users/san/code/jupyternotebooks'"
      ]
     },
     "execution_count": 44,
     "metadata": {},
     "output_type": "execute_result"
    }
   ],
   "source": [
    "%pwd"
   ]
  },
  {
   "cell_type": "code",
   "execution_count": 45,
   "metadata": {},
   "outputs": [],
   "source": [
    "%matplotlib inline"
   ]
  },
  {
   "cell_type": "code",
   "execution_count": 46,
   "metadata": {},
   "outputs": [
    {
     "data": {
      "text/plain": [
       "'I didnot get any error without even executing the above command. the chart showed up fine'"
      ]
     },
     "execution_count": 46,
     "metadata": {},
     "output_type": "execute_result"
    }
   ],
   "source": [
    "'I didnot get any error without even executing the above command. the chart showed up fine'"
   ]
  },
  {
   "cell_type": "code",
   "execution_count": 47,
   "metadata": {},
   "outputs": [
    {
     "data": {
      "image/png": "[encoded data removed]",
      "text/plain": [
       "<Figure size 432x288 with 1 Axes>"
      ]
     },
     "metadata": {
      "needs_background": "light"
     },
     "output_type": "display_data"
    }
   ],
   "source": [
    "\"\"\"\n",
    "This is a Sample matplotlib chart\n",
    "\"\"\"\n",
    "import numpy as np\n",
    "import matplotlib.pyplot as plt\n",
    "\n",
    "n= 50\n",
    "height = np.random.rand(n)\n",
    "weight = np.random.rand(n)\n",
    "area = np.pi * ( 15 * np.random.rand(n) ) ** 2 \n",
    "colors = np.random.rand(n)\n",
    "\n",
    "plt.scatter(height,weight,s=area,c=colors, alpha=0.5)\n",
    "plt.show()"
   ]
  },
  {
   "cell_type": "code",
   "execution_count": 48,
   "metadata": {},
   "outputs": [
    {
     "data": {
      "text/html": [
       "<iframe width=\"560\" height =\"315\" src=\"https://www.youtube.com/embed/HW29067qVWk\" frameborder=\"0\" allowFullScreen></iFrame>\n"
      ],
      "text/plain": [
       "<IPython.core.display.HTML object>"
      ]
     },
     "metadata": {},
     "output_type": "display_data"
    }
   ],
   "source": [
    "%%HTML\n",
    "<iframe width=\"560\" height =\"315\" src=\"https://www.youtube.com/embed/HW29067qVWk\" frameborder=\"0\" allowFullScreen></iFrame>"
   ]
  },
  {
   "cell_type": "code",
   "execution_count": 49,
   "metadata": {},
   "outputs": [
    {
     "data": {
      "text/plain": [
       "'Change the url from watch to embed as above example to make sure display the video in iframe'"
      ]
     },
     "execution_count": 49,
     "metadata": {},
     "output_type": "execute_result"
    }
   ],
   "source": [
    "'Change the url from watch to embed as above example to make sure display the video in iframe'"
   ]
  },
  {
   "cell_type": "code",
   "execution_count": 50,
   "metadata": {},
   "outputs": [
    {
     "name": "stdout",
     "output_type": "stream",
     "text": [
      "412 ns ± 5.94 ns per loop (mean ± std. dev. of 7 runs, 1000000 loops each)\n"
     ]
    }
   ],
   "source": [
    "%%timeit\n",
    "square_evens = (n*n for n in range(1000))"
   ]
  },
  {
   "cell_type": "code",
   "execution_count": 51,
   "metadata": {},
   "outputs": [
    {
     "data": {
      "text/plain": [
       "'Used to know the time of run. Useful to know how different functions took how much time'"
      ]
     },
     "execution_count": 51,
     "metadata": {},
     "output_type": "execute_result"
    }
   ],
   "source": [
    "'Used to know the time of run. Useful to know how different functions took how much time'"
   ]
  },
  {
   "cell_type": "code",
   "execution_count": 52,
   "metadata": {},
   "outputs": [
    {
     "data": {
      "text/html": [
       "<div>\n",
       "<style scoped>\n",
       "    .dataframe tbody tr th:only-of-type {\n",
       "        vertical-align: middle;\n",
       "    }\n",
       "\n",
       "    .dataframe tbody tr th {\n",
       "        vertical-align: top;\n",
       "    }\n",
       "\n",
       "    .dataframe thead th {\n",
       "        text-align: right;\n",
       "    }\n",
       "</style>\n",
       "<table border=\"1\" class=\"dataframe\">\n",
       "  <thead>\n",
       "    <tr style=\"text-align: right;\">\n",
       "      <th></th>\n",
       "      <th>0</th>\n",
       "      <th>1</th>\n",
       "      <th>2</th>\n",
       "      <th>3</th>\n",
       "    </tr>\n",
       "  </thead>\n",
       "  <tbody>\n",
       "    <tr>\n",
       "      <th>0</th>\n",
       "      <td>-1.920270</td>\n",
       "      <td>1.074238</td>\n",
       "      <td>-1.019726</td>\n",
       "      <td>1.455839</td>\n",
       "    </tr>\n",
       "    <tr>\n",
       "      <th>1</th>\n",
       "      <td>0.960894</td>\n",
       "      <td>-1.653417</td>\n",
       "      <td>-0.571864</td>\n",
       "      <td>0.666642</td>\n",
       "    </tr>\n",
       "    <tr>\n",
       "      <th>2</th>\n",
       "      <td>0.401126</td>\n",
       "      <td>0.281806</td>\n",
       "      <td>-0.236093</td>\n",
       "      <td>0.196377</td>\n",
       "    </tr>\n",
       "    <tr>\n",
       "      <th>3</th>\n",
       "      <td>0.265757</td>\n",
       "      <td>-1.008137</td>\n",
       "      <td>-0.558723</td>\n",
       "      <td>-1.274569</td>\n",
       "    </tr>\n",
       "    <tr>\n",
       "      <th>4</th>\n",
       "      <td>1.408197</td>\n",
       "      <td>0.579846</td>\n",
       "      <td>1.513871</td>\n",
       "      <td>2.374746</td>\n",
       "    </tr>\n",
       "    <tr>\n",
       "      <th>5</th>\n",
       "      <td>1.275726</td>\n",
       "      <td>-1.296345</td>\n",
       "      <td>0.557856</td>\n",
       "      <td>-0.429529</td>\n",
       "    </tr>\n",
       "    <tr>\n",
       "      <th>6</th>\n",
       "      <td>-0.950903</td>\n",
       "      <td>0.698069</td>\n",
       "      <td>1.016547</td>\n",
       "      <td>0.661627</td>\n",
       "    </tr>\n",
       "    <tr>\n",
       "      <th>7</th>\n",
       "      <td>0.530680</td>\n",
       "      <td>-0.503737</td>\n",
       "      <td>-1.506426</td>\n",
       "      <td>-2.020617</td>\n",
       "    </tr>\n",
       "    <tr>\n",
       "      <th>8</th>\n",
       "      <td>-1.243660</td>\n",
       "      <td>-1.584048</td>\n",
       "      <td>0.537424</td>\n",
       "      <td>-0.231584</td>\n",
       "    </tr>\n",
       "    <tr>\n",
       "      <th>9</th>\n",
       "      <td>1.368608</td>\n",
       "      <td>-0.461234</td>\n",
       "      <td>0.019029</td>\n",
       "      <td>0.338889</td>\n",
       "    </tr>\n",
       "  </tbody>\n",
       "</table>\n",
       "</div>"
      ],
      "text/plain": [
       "          0         1         2         3\n",
       "0 -1.920270  1.074238 -1.019726  1.455839\n",
       "1  0.960894 -1.653417 -0.571864  0.666642\n",
       "2  0.401126  0.281806 -0.236093  0.196377\n",
       "3  0.265757 -1.008137 -0.558723 -1.274569\n",
       "4  1.408197  0.579846  1.513871  2.374746\n",
       "5  1.275726 -1.296345  0.557856 -0.429529\n",
       "6 -0.950903  0.698069  1.016547  0.661627\n",
       "7  0.530680 -0.503737 -1.506426 -2.020617\n",
       "8 -1.243660 -1.584048  0.537424 -0.231584\n",
       "9  1.368608 -0.461234  0.019029  0.338889"
      ]
     },
     "execution_count": 52,
     "metadata": {},
     "output_type": "execute_result"
    }
   ],
   "source": [
    "import pandas as pd\n",
    "import numpy as np\n",
    "\n",
    "pd = pd.DataFrame(np.random.randn(10,4))\n",
    "pd\n",
    "#pd.head() This displays on first five rows"
   ]
  },
  {
   "cell_type": "code",
   "execution_count": 53,
   "metadata": {},
   "outputs": [
    {
     "name": "stdout",
     "output_type": "stream",
     "text": [
      "                                        product_category  \\\n",
      "0                                              Clothing    \n",
      "1                                             Furniture    \n",
      "2                                              Footwear    \n",
      "3                                              Clothing    \n",
      "4                                          Pet Supplies    \n",
      "5      Eternal Gandhi Super Series Crystal Paper Weig...   \n",
      "6                                              Clothing    \n",
      "7                                             Furniture    \n",
      "8                                              Footwear    \n",
      "9                                              Clothing    \n",
      "10                                             Footwear    \n",
      "11                                             Clothing    \n",
      "12                                         Pet Supplies    \n",
      "13                                             Clothing    \n",
      "14                                    Pens & Stationery    \n",
      "15                                             Clothing    \n",
      "16                                            Furniture    \n",
      "17                                             Footwear    \n",
      "18                                             Clothing    \n",
      "19                                            Furniture    \n",
      "20                                         Pet Supplies    \n",
      "21                                             Clothing    \n",
      "22                                             Clothing    \n",
      "23                                             Footwear    \n",
      "24                                         Pet Supplies    \n",
      "25                                             Clothing    \n",
      "26                                     Sports & Fitness    \n",
      "27                             Beauty and Personal Care    \n",
      "28                                             Clothing    \n",
      "29                                             Clothing    \n",
      "...                                                  ...   \n",
      "19970                                         Baby Care    \n",
      "19971                                         Baby Care    \n",
      "19972                                         Baby Care    \n",
      "19973                                         Baby Care    \n",
      "19974                                         Baby Care    \n",
      "19975                                         Baby Care    \n",
      "19976                                         Baby Care    \n",
      "19977                                         Baby Care    \n",
      "19978                                         Baby Care    \n",
      "19979                                         Baby Care    \n",
      "19980                                         Baby Care    \n",
      "19981                                         Baby Care    \n",
      "19982                                         Baby Care    \n",
      "19983                                         Baby Care    \n",
      "19984                                         Baby Care    \n",
      "19985                                         Baby Care    \n",
      "19986                                         Baby Care    \n",
      "19987                                         Baby Care    \n",
      "19988                                         Baby Care    \n",
      "19989                                         Baby Care    \n",
      "19990                                         Baby Care    \n",
      "19991                                         Baby Care    \n",
      "19992                                         Baby Care    \n",
      "19993                                         Baby Care    \n",
      "19994                                         Baby Care    \n",
      "19995                                         Baby Care    \n",
      "19996                                         Baby Care    \n",
      "19997                                         Baby Care    \n",
      "19998                                         Baby Care    \n",
      "19999                                         Baby Care    \n",
      "\n",
      "                                   product_category_tree  \n",
      "0      [\"Clothing >> Women's Clothing >> Lingerie, Sl...  \n",
      "1      [\"Furniture >> Living Room Furniture >> Sofa B...  \n",
      "2      [\"Footwear >> Women's Footwear >> Ballerinas >...  \n",
      "3      [\"Clothing >> Women's Clothing >> Lingerie, Sl...  \n",
      "4      [\"Pet Supplies >> Grooming >> Skin & Coat Care...  \n",
      "5      [\"Eternal Gandhi Super Series Crystal Paper We...  \n",
      "6      [\"Clothing >> Women's Clothing >> Lingerie, Sl...  \n",
      "7      [\"Furniture >> Living Room Furniture >> Sofa B...  \n",
      "8      [\"Footwear >> Women's Footwear >> Ballerinas >...  \n",
      "9      [\"Clothing >> Women's Clothing >> Lingerie, Sl...  \n",
      "10     [\"Footwear >> Women's Footwear >> Ballerinas >...  \n",
      "11     [\"Clothing >> Women's Clothing >> Sports & Gym...  \n",
      "12     [\"Pet Supplies >> Grooming >> Skin & Coat Care...  \n",
      "13     [\"Clothing >> Women's Clothing >> Lingerie, Sl...  \n",
      "14     [\"Pens & Stationery >> School Supplies >> Wate...  \n",
      "15     [\"Clothing >> Women's Clothing >> Lingerie, Sl...  \n",
      "16     [\"Furniture >> Living Room Furniture >> Sofa B...  \n",
      "17     [\"Footwear >> Women's Footwear >> Ballerinas >...  \n",
      "18     [\"Clothing >> Women's Clothing >> Sports & Gym...  \n",
      "19     [\"Furniture >> Living Room Furniture >> Sofa B...  \n",
      "20     [\"Pet Supplies >> Grooming >> Skin & Coat Care...  \n",
      "21     [\"Clothing >> Women's Clothing >> Lingerie, Sl...  \n",
      "22     [\"Clothing >> Kids' Clothing >> Boys Wear >> P...  \n",
      "23     [\"Footwear >> Women's Footwear >> Sports Sanda...  \n",
      "24              [\"Pet Supplies >> Toys >> Comfort Toys\"]  \n",
      "25     [\"Clothing >> Women's Clothing >> Lingerie, Sl...  \n",
      "26     [\"Sports & Fitness >> Other Sports >> Skating ...  \n",
      "27     [\"Beauty and Personal Care >> Makeup >> Vanity...  \n",
      "28     [\"Clothing >> Women's Clothing >> Fusion Wear ...  \n",
      "29     [\"Clothing >> Men's Clothing >> Cargos, Shorts...  \n",
      "...                                                  ...  \n",
      "19970  [\"Baby Care >> Baby & Kids Gifts >> Stickers >...  \n",
      "19971  [\"Baby Care >> Baby & Kids Gifts >> Stickers >...  \n",
      "19972  [\"Baby Care >> Baby & Kids Gifts >> Stickers >...  \n",
      "19973  [\"Baby Care >> Baby & Kids Gifts >> Stickers >...  \n",
      "19974  [\"Baby Care >> Baby & Kids Gifts >> Stickers >...  \n",
      "19975  [\"Baby Care >> Baby & Kids Gifts >> Stickers >...  \n",
      "19976  [\"Baby Care >> Baby & Kids Gifts >> Stickers >...  \n",
      "19977  [\"Baby Care >> Baby & Kids Gifts >> Stickers >...  \n",
      "19978  [\"Baby Care >> Baby & Kids Gifts >> Stickers >...  \n",
      "19979  [\"Baby Care >> Baby & Kids Gifts >> Stickers >...  \n",
      "19980  [\"Baby Care >> Baby & Kids Gifts >> Stickers >...  \n",
      "19981  [\"Baby Care >> Baby & Kids Gifts >> Stickers >...  \n",
      "19982  [\"Baby Care >> Baby & Kids Gifts >> Stickers >...  \n",
      "19983  [\"Baby Care >> Baby & Kids Gifts >> Stickers >...  \n",
      "19984  [\"Baby Care >> Baby & Kids Gifts >> Stickers >...  \n",
      "19985  [\"Baby Care >> Baby & Kids Gifts >> Stickers >...  \n",
      "19986  [\"Baby Care >> Baby & Kids Gifts >> Stickers >...  \n",
      "19987  [\"Baby Care >> Baby & Kids Gifts >> Stickers >...  \n",
      "19988  [\"Baby Care >> Baby & Kids Gifts >> Stickers >...  \n",
      "19989  [\"Baby Care >> Baby & Kids Gifts >> Stickers >...  \n",
      "19990  [\"Baby Care >> Baby & Kids Gifts >> Stickers >...  \n",
      "19991  [\"Baby Care >> Baby & Kids Gifts >> Stickers >...  \n",
      "19992  [\"Baby Care >> Baby & Kids Gifts >> Stickers >...  \n",
      "19993  [\"Baby Care >> Baby & Kids Gifts >> Stickers >...  \n",
      "19994  [\"Baby Care >> Baby & Kids Gifts >> Stickers >...  \n",
      "19995  [\"Baby Care >> Baby & Kids Gifts >> Stickers >...  \n",
      "19996  [\"Baby Care >> Baby & Kids Gifts >> Stickers >...  \n",
      "19997  [\"Baby Care >> Baby & Kids Gifts >> Stickers >...  \n",
      "19998  [\"Baby Care >> Baby & Kids Gifts >> Stickers >...  \n",
      "19999  [\"Baby Care >> Baby & Kids Gifts >> Stickers >...  \n",
      "\n",
      "[20000 rows x 2 columns]\n",
      "=================================================================================\n",
      "=================================================================================\n",
      "Unique Product Categories =[\"883 Police Full Sleeve Solid Men's Jacket\", 'ABEEZ Boys, Men, Girls (Black, Pack of 1)', 'ANAND ARCHIES Girls Flats', 'ANAND ARCHIES Girls Wedges', \"ANASAZI Casual 3/4 Sleeve Solid Women's Top\", 'ATV Pouch for Acer Liquid Z330 (STEEL BLUE)', 'Abhinl Fashion Cotton Printed Semi-stitched Salw...', 'Adidas IND PRO THI GUA Thigh Guard (White, Blue,...', \"Ajaero Slim Fit Women's Dark Blue Jeans\", 'Amita Home Furnishing Cotton Floral Single Bedsh...', 'Amita Home Furnishing Cotton Printed Single Beds...', 'Anuradha Art Stylish Hair Clip (Black)', 'Anuradha Art Stylish Hair Clip (Blue)', 'Areon Luxurious Fragrance Long Lasting Car,Home,...', 'Arial Morris Women Flats', 'Asics Gel-Cumulus 17 Running Shoes', 'Asics Gel-Kayano 22 Running Shoes', \"Attitude Printed Women's Round Neck Black T-Shirt\", \"Auraa Men's, Women's Solid No Show Socks\", 'AutoKraftZ Optimum Locking Device For Bajaj Puls...', 'Automation & Robotics ', 'Automotive ', 'Autoplus M AP15 Arm Sleeve (Black)', 'Autoplus M AP18 Arm Sleeve (Black)', 'BALAJI EXPORTS Bottled Wine Cooler (9 Bottles)', \"BLM Casual Printed Women's Kurti\", 'Baby Care ', 'Bags, Wallets & Belts ', \"Be 13 Printed Boy's Round Neck T-Shirt (Pack of 2)\", 'Beauty and Personal Care ', 'Behringer Xenyx 502 Analog Sound Mixer', 'Bengal Blooms Rose Artificial Plant  with Pot (3...', 'Bootwale Bellies', 'Boreal Roller Brush', \"Breakbounce Men's Vest\", 'BuildTrack PIR Wireless Motion Sensor - One Swit...', 'COIRFIT Single Coir Mattress', 'Cameras & Accessories ', \"Camey Men's Quarter Length Socks\", 'Car vastra 1pcs Car Vastra Honda Beige Backrest ...', 'Carbanao Chrome Grill Chevrolet Cruze Car Grill ...', 'Cellbazaar Blackberry 8520 WHITE LCD LCD (YIT-562)', 'Clickforsign Vehicles parked Illegally will be t...', 'Clothing ', 'Clovia Lingerie Set', \"Clovia Women's Full Coverage Bra\", \"Clovia Women's Plunge Bra\", \"Clovia Women's T-Shirt Bra\", 'Computers ', 'Corcepts Universal Tablet HD Ultra Clear Transpa...', 'Crafty Hands Kutchchi Mirrorwork Tapestry (Maroon)', 'D&D Women Flats', \"Dassler Slim Fit Women's Multicolor Jeans\", 'Dilan Jewels Alloy Zircon 18K Yellow Gold Bangle...', \"Disney Printed Baby Boy's Hooded Grey T-Shirt\", \"Dolz Slim Fit Fit Women's Brown Jeans\", 'Dremel 2615.023.132 Plastic Friction Work Bench ...', 'Dressberry Black Synthetic  Clutch', 'Dressberry Gold Synthetic  Clutch', 'Dressberry Green Synthetic  Clutch', 'Dressberry Orange Synthetic  Clutch', \"E'Hiose Girl's Leggings (Pack of 6)\", \"EASIES Solid Single Breasted Casual Men's Blazer\", 'Escan Lace Up', 'Eternal Gandhi Super Series Crystal Paper Weight...', 'Eyewear ', 'FEET FLOW Women Flats', \"FIFO Bottom Women's  Combo\", \"Fabpoppy Printed Women's Jumpsuit\", 'Favourite BikerZ 3514 RAD air filter Ionic Air F...', 'Firangi Cotton, Polyester Free Floor Mat Firangi...', \"Fly U Slim Fit Fit Women's Brown Jeans\", 'Food & Nutrition ', 'Foot Candy Women Flats', 'Footwear ', 'Frabjous German silver Rings For Women Alloy Zir...', 'Furniture ', \"GALLOWAY skinny Fit Women's Jeans\", 'GM Power mate 4 Strip Surge Protector (White)', 'Gaming ', 'Gking Hand Stiched Steering Cover For Maruti Ert...', 'Gking Hand Stiched Steering Cover For Renault Sc...', 'Glacier Running Shoes', \"HANS Men's Crew Length Socks\", 'Health & Personal Care Appliances ', 'Himmlisch 20503 Car Bottle Holder (Plastic)', 'Home & Kitchen ', 'Home Decor & Festive Needs ', 'Home Entertainment ', 'Home Furnishing ', 'Home Improvement ', 'Household Supplies ', 'INDILEGO Women Flats', 'INKT INKT A5 Wiro Notebook A5 Notebook Ring Boun...', 'INVENTURE RETAIL Nail Cutter', 'Impala Alloy Cufflink (White)', \"Indistar Self Design Viscose Women's Stole\", 'JUSF2 Black Color Hair Band (Multicolor)', 'Jazz Eyewears Over-sized Sunglasses', 'Jewellery ', 'Joyra Heart Sterling Silver Swarovski Crystal, S...', 'Just Wow Women Flats', 'K&P Dr.Ambedkar Large 04 Showpiece  -  19 cm (Po...', 'K&P Lord Ganesha Large 03 Showpiece  -  19 cm (P...', 'Kalpaveda Copper Bowl (Gold, Pack of 1)', 'Kanvas Bellies', 'Kitchen & Dining ', 'Kittens Boys Flats', 'Klaur Melbourne Bellies', 'Knight Ace Kraasa Sports Running Shoes, Cycling ...', 'Koie  Battery - For Samsung 7562 Premium Quality...', \"Kombee Girl's Printed Red, Pink Top & Capri Set\", 'Kraft Seeds Dill Herb Seed (50 per packet)', 'Kraft Seeds Rosemary Herb (Pack Of 5) Seed (75 p...', 'Kraft Seeds Thyme Herbs Seed (200 per packet)', \"LGRL Women's Leggings\", \"Laser X Checkered Men's Boxer (Pack of 4)\", \"Leading lady Women's Camisole\", \"Legmark Slim Fit Women's Blue Jeans\", \"Legmark Slim Fit Women's Light Blue Jeans\", \"Libas Printed Women's A-line Kurta\", \"Libas Printed Women's Anarkali Kurta\", \"Lilliput Top Baby Girl's  Combo\", 'Linzina Fashions LIN-HOSS-1.5 Faucet Set', \"Little Stars Girl's A-line Multicolor Dress\", \"LondonHouze Printed Women's Round Neck Grey T-Shirt\", 'Lucky Thailand GL/ LG30 Glass (300 ml, Clear, Pa...', \"MASARA Solid Women's Straight Kurta\", 'Mast & Harbour Black Synthetic  Clutch', 'Mast & Harbour Gold Synthetic  Clutch', \"Miss Wow Slim Fit Women's Blue Jeans\", 'Mobiles & Accessories ', 'NEWGEN TECH EO-HS3303 179 Wired Headset (White)', 'NEWGEN TECH EO-HS3303 218 Wired Headset (White)', 'NEWGEN TECH EO-HS3303 58 Wired Headset (White)', 'Naaz 2 in 1 Paper Quilling Board Game', 'Naaz Dart game Board Game', \"New Darling Women's Printed Top & Pyjama Set\", \"Nine Maternity Wear Women's Fit and Flare Dress\", \"Noor Embroidered Women's Straight Kurta\", 'Nut Khut Embroidered Kurta & Churidar', 'OEM 170774 Bike Side Stand', 'Ocean GP/Pyramid Glass (300 ml, Clear, Pack of 12)', 'Oddy RS 1.5 X 2 100 Sheets Self Stick Reposition...', 'Olvin Aviator Sunglasses', 'Olvin Oval Sunglasses', 'Olvin Rectangular Sunglasses', 'Olvin Wayfarer Sunglasses', \"Oly Two Fit Fit Women's Black Jeans\", \"Oly Two Fit Fit Women's Dark Blue Jeans\", \"Pazel Slim Fit Men's Jeans\", 'Pens & Stationery ', 'Pet Supplies ', 'Pia International 10X70X70 WITH ZOOM SAKURA Bino...', 'Planet Waves Woodstock Strap (Multicolor)', 'Pout Brass Bangle', 'Power Smart Quick Charging Pack For PAN CGR-D28 ...', 'Power Smart Quick Charging Pack For PAN CGR-DU-2...', 'Prime Printed 8 Seater Table Cover (Multicolor, ...', \"PrivateLifes MasterPiece Women's Push-up Bra\", 'Pu-Good Women Flats', 'REMSON INDIA Women Flats', \"RajeshFashion Women's Leggings\", 'Rasav Jewels Yellow Gold Diamond 18 K Ring', 'Remax Rm-10000 Remax Vanguard 10000mah 10000 mAh...', 'Royal Seal Creations 40 ST COLOR Silver Zircon N...', \"Ruhi's Creations Cotton Cartoon King sized Doubl...\", \"Ruhi's Creations Cotton Floral King sized Double...\", \"Ruhi's Creations Polyester Silk Blend Cartoon Ki...\", 'SAY Thread Wounded Candle 10\\\\\" Set of 4 pcs Solid...', 'SAY UV Sterilizer Solid Filter Cartridge (0, Pac...', 'SHOPOJ Multicolor Paper Sky Lantern (80 cm X 34 ...', 'SHOPOJ Purple Paper Sky Lantern (80 cm X 34 cm, ...', 'SHOPOJ White Paper Sky Lantern (80 cm X 34 cm, P...', 'SHOPOJ Yellow Paper Sky Lantern (80 cm X 34 cm, ...', 'SJ Barstel 56m / 1000m Binoculars (30 mm, Black)', 'SJ Bushnell 122/1000M Binoculars (36 mm, Black)', 'SJ Comet Zoom DPSI Binoculars (30 mm, Black)', \"SMART DENIM Solid Women's White Denim Shorts\", 'SMART TRADERS Girls Bellies', 'SMART TRADERS Women Flats', 'SMART TRADERS Women Wedges', 'SRPC BAOER STARWALKER EXECUTIVE ROLLERBALL Pen G...', \"SUPERMOD Men's Brief\", 'Samprada Modern art Tapestry (Black, Pink)', \"Selfcare Women's Thong Panty (Pack of 3)\", 'Shonaya Printed Bhagalpuri Art Silk Sari', 'Shrih SH-0192 Wired USB Flexible Keyboard (Red)', 'Shrih Toe & Foot Protector Pain Relief Pad (Pack...', 'Siemens 5SL Betagard 5SL MCB (1)', \"Sisel Printed Poly Cotton Women's Stole\", 'Siyas Collection Lac Cubic Zirconia Bangle Set (...', 'Sj Bushnell 119M / 1000 Binoculars (36 mm, Black)', 'Skayvon SUBMERSIBBLE THREE PHASE PUMP CONTROLLER...', 'Skayvon SUMMERSIBLE SINGLE PHASE PUMP CONTROLLER...', 'Small Toes Bellies', 'Sonaxo Men Running Shoes', \"Spa Culture Fit Fit Women's Black Jeans\", 'Speedwav 186136 Manual Rear View Mirror (Right, ...', 'Speedwav 186879 Bajaj Pulsar 200 NS DTS-i LED In...', 'Speedwav 186926 Royal Enfield 350 Twin Spark LED...', 'Speedwav 216456 Manual Rear View Mirror (Right, ...', 'Speedwav 216510 Manual Rear View Mirror (Right, ...', 'Speedwav 216552 Manual Rear View Mirror (Right, ...', 'Speedwav 240437 Sun Shade For Hyundai i10 (Dashb...', 'Sports & Fitness ', 'Srajanaa sr114 Travel Shaving Kit (Black)', \"Starsy Printed Women's Round Neck Black T-Shirt\", \"Starsy Solid Women's Round Neck Green T-Shirt\", 'Style World Women Flats', 'Sugandh Vatika 24 Natural Masala, Sandal Incense...', 'Sumo Baby Walker (Red)', 'Sunglasses', 'Sunglasses ', 'Synergy SFJB0105 Grocery Bag (Blue)', 'THERISE MD0005 Wired Headset (Pink)', \"TIMBERLAKE Slim Fit Fit Women's Blue Jeans\", \"TIMBERLAKE Slim Fit Fit Women's Brown Jeans\", \"TIMBERLAKE Slim Fit Fit Women's Red Jeans\", \"TSG Breeze Printed Women's Round Neck Multicolor...\", 'Taurus Black & white Lace Up', \"The Cotton Company Solid Women's Polo Neck Pink ...\", 'The Crazy Me 1 Compartments Eco-Friendly leather...', \"Threads & Pals Full Sleeve Printed, Solid Men's ...\", \"Threads & Pals Full Sleeve Self Design Men's Swe...\", 'Tools & Hardware ', 'Toys & School Supplies ', 'Treppe Bellies', \"UFO Full Sleeve Solid Girl's Jacket\", \"UFO Self Design Round Neck Casual Girl's Sweater\", \"United Colors of Benetton Girl's Trousers\", 'Urban Girl Foundation Brush (Pack of 10)', 'Urban Girl Foundation Brush (Pack of 12)', 'Urban Girl Foundation Brush (Pack of 7)', 'V&G Professional HD-37 Hair Dryer (Red)', \"Vinenzia Printed Winter Men's Gloves\", \"Viral Girl Women's Full Coverage Bra\", \"Vishudh Printed Women's Anarkali Kurta\", \"Vishudh Printed Women's Straight Kurta\", \"Vitamins Solid Baby Girl's Basic Shorts\", 'Walkline Slippers', 'Watches ', 'Wearable Smart Devices ', 'Wella Elements Leight Weight Renewing Conditione...', 'Wellon Fittings set (16 pieces) for RO Water Pur...', \"Yo Baby Girl's Trousers\", 'Zevrr Sterling Silver Swarovski Zirconia Platinu...', 'Zikrak Exim Women Wedges', 'Zixtro Bug (Black, Backpack)', 'classyworld Brass Cufflink (Grey-02)', 'classyworld Brass Cufflink (Silver-01)', 'clickforsign Avoid Contanimation Wash your Hands...', 'clickforsign Sound horn Before entering Emergenc...', \"e-Fresh Baby Boy's Brief (Pack of 10)\", \"e-Fresh Boy's Brief (Pack of 5)\", 'eBooks ', \"fourgee Slim Fit Boy's Black Jeans\", \"fourgee Slim Fit Women's Blue Jeans\", \"kem Flow Gold skinny Fit Baby Girl's Blue Jeans\", \"killys Men's Solid No Show Socks\", \"piftif Women's Sports Bra\", \"run of luck Solid Women's Round Neck Dark Blue T...\", \"soie Fashion Women's Full Coverage Bra\", \"soie Fashion Women's Sports Bra\", \"tadd Men's, Women's Ankle Length Socks\", 'xy decor Cotton Sofa Cover (white Pack of 6)']\n",
      "=================================================================================\n",
      "=================================================================================\n",
      "Total no. of Unique Product Categories =266\n"
     ]
    }
   ],
   "source": [
    "import os\n",
    "import pandas as pd\n",
    "\n",
    "script_dir = os.getcwd()\n",
    "file = 'flipkart_sample.csv'\n",
    "cat_data = pd.read_csv(os.path.normcase(os.path.join(script_dir, file)))\n",
    "cat_data[\"product_category\"] =cat_data[\"product_category_tree\"].str.strip('[\"').str.strip('\"]').str.split('>>').str[0]\n",
    "print(cat_data[[\"product_category\",\"product_category_tree\"]])\n",
    "print(\"=================================================================================\")\n",
    "print(\"=================================================================================\")\n",
    "print(\"Unique Product Categories =\" + str(sorted(cat_data.product_category.unique())))\n",
    "print(\"=================================================================================\")\n",
    "print(\"=================================================================================\")\n",
    "print(\"Total no. of Unique Product Categories =\" + str(len(cat_data.product_category.unique()))) #266"
   ]
  },
  {
   "cell_type": "code",
   "execution_count": 54,
   "metadata": {},
   "outputs": [],
   "source": [
    "# TO set jupyter themes - Dark Mode - Monokai Theme\n",
    "# !pip install jupyterthemes"
   ]
  },
  {
   "cell_type": "code",
   "execution_count": 55,
   "metadata": {},
   "outputs": [
    {
     "name": "stdout",
     "output_type": "stream",
     "text": [
      "Available Themes: \r\n",
      "   chesterish\r\n",
      "   grade3\r\n",
      "   gruvboxd\r\n",
      "   gruvboxl\r\n",
      "   monokai\r\n",
      "   oceans16\r\n",
      "   onedork\r\n",
      "   solarizedd\r\n",
      "   solarizedl\r\n"
     ]
    }
   ],
   "source": [
    "!jt -l"
   ]
  },
  {
   "cell_type": "code",
   "execution_count": 56,
   "metadata": {},
   "outputs": [],
   "source": [
    "# !jt -t monokai\n",
    "# Restart jupyter notebook in a new command prompt window for theme to take effect"
   ]
  },
  {
   "cell_type": "code",
   "execution_count": 57,
   "metadata": {},
   "outputs": [],
   "source": [
    "# !jt -r \n",
    "# TO RESET TO ORIGINAL"
   ]
  },
  {
   "cell_type": "code",
   "execution_count": null,
   "metadata": {},
   "outputs": [],
   "source": [
    "import os\n",
    "print(os.getcwd())\n",
    "print(os.listdir(os.getcwd()))"
   ]
  },
  {
   "cell_type": "code",
   "execution_count": null,
   "metadata": {},
   "outputs": [],
   "source": [
    "%pwd"
   ]
  },
  {
   "cell_type": "code",
   "execution_count": null,
   "metadata": {},
   "outputs": [],
   "source": []
  },
  {
   "cell_type": "code",
   "execution_count": null,
   "metadata": {},
   "outputs": [],
   "source": []
  }
 ],
 "metadata": {
  "kernelspec": {
   "display_name": "Python 3",
   "language": "python",
   "name": "python3"
  },
  "language_info": {
   "codemirror_mode": {
    "name": "ipython",
    "version": 3
   },
   "file_extension": ".py",
   "mimetype": "text/x-python",
   "name": "python",
   "nbconvert_exporter": "python",
   "pygments_lexer": "ipython3",
   "version": "3.7.3"
  }
 },
 "nbformat": 4,
 "nbformat_minor": 2
}
