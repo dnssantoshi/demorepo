{
 "cells": [
  {
   "cell_type": "markdown",
   "metadata": {},
   "source": [
    "# Sample Header created with # in it\n",
    "\n",
    "*This text will be italicized*\n",
    "\n",
    "## This is a h2 type header\n",
    "\n",
    "Markdown is a lightweight markup language with plain text formatting syntax. ... Markdown is often used to format readme files, for writing messages in online discussion forums, and to create rich text using a plain text editor.\n",
    "\n",
    "Basic formatting for *italics* and **bold** is supported. This *can be **nested** like* so\n",
    "\n",
    "### What this Notebook shows h3 header\n",
    "\n",
    "1. How to get started with Notebooks\n",
    "2. How to execute code\n",
    "3. How to add markdown\n",
    "4. And some other cool stuff\n"
   ]
  },
  {
   "cell_type": "code",
   "execution_count": 99,
   "metadata": {},
   "outputs": [
    {
     "name": "stdout",
     "output_type": "stream",
     "text": [
      "Hello World!\n"
     ]
    }
   ],
   "source": [
    "print(\"Hello World!\")"
   ]
  },
  {
   "cell_type": "code",
   "execution_count": 100,
   "metadata": {},
   "outputs": [
    {
     "data": {
      "text/plain": [
       "'Hello World!'"
      ]
     },
     "execution_count": 100,
     "metadata": {},
     "output_type": "execute_result"
    }
   ],
   "source": [
    "\"Hello World!\""
   ]
  },
  {
   "cell_type": "code",
   "execution_count": 101,
   "metadata": {},
   "outputs": [
    {
     "name": "stdout",
     "output_type": "stream",
     "text": [
      "Hello World!\n"
     ]
    }
   ],
   "source": [
    "print(\"Hello World!\")\n"
   ]
  },
  {
   "cell_type": "code",
   "execution_count": 102,
   "metadata": {},
   "outputs": [],
   "source": [
    "name = 'Santoshi'"
   ]
  },
  {
   "cell_type": "code",
   "execution_count": 103,
   "metadata": {},
   "outputs": [
    {
     "data": {
      "text/plain": [
       "'Santoshi'"
      ]
     },
     "execution_count": 103,
     "metadata": {},
     "output_type": "execute_result"
    }
   ],
   "source": [
    "name"
   ]
  },
  {
   "cell_type": "code",
   "execution_count": 104,
   "metadata": {},
   "outputs": [],
   "source": [
    "name = 'Diddi'"
   ]
  },
  {
   "cell_type": "code",
   "execution_count": 105,
   "metadata": {},
   "outputs": [
    {
     "data": {
      "text/plain": [
       "'Do a Cells -> Run all will do correct this assignment'"
      ]
     },
     "execution_count": 105,
     "metadata": {},
     "output_type": "execute_result"
    }
   ],
   "source": [
    "'Do a Cells -> Run all will do correct this assignment'"
   ]
  },
  {
   "cell_type": "code",
   "execution_count": 106,
   "metadata": {},
   "outputs": [
    {
     "data": {
      "text/plain": [
       "'Did you see how the execution numbers lined up here? It executed from top to bottom'"
      ]
     },
     "execution_count": 106,
     "metadata": {},
     "output_type": "execute_result"
    }
   ],
   "source": [
    "'Did you see how the execution numbers lined up here? It executed from top to bottom'"
   ]
  },
  {
   "cell_type": "code",
   "execution_count": 107,
   "metadata": {},
   "outputs": [
    {
     "name": "stdout",
     "output_type": "stream",
     "text": [
      "Package                            Version \r\n",
      "---------------------------------- --------\r\n",
      "alabaster                          0.7.12  \r\n",
      "anaconda-client                    1.7.2   \r\n",
      "anaconda-navigator                 1.9.7   \r\n",
      "anaconda-project                   0.8.2   \r\n",
      "appnope                            0.1.0   \r\n",
      "appscript                          1.0.1   \r\n",
      "asn1crypto                         0.24.0  \r\n",
      "astroid                            2.2.5   \r\n",
      "astropy                            3.1.2   \r\n",
      "atomicwrites                       1.3.0   \r\n",
      "attrs                              19.1.0  \r\n",
      "Babel                              2.6.0   \r\n",
      "backcall                           0.1.0   \r\n",
      "backports.os                       0.1.1   \r\n",
      "backports.shutil-get-terminal-size 1.0.0   \r\n",
      "beautifulsoup4                     4.7.1   \r\n",
      "bitarray                           0.8.3   \r\n",
      "bkcharts                           0.2     \r\n",
      "bleach                             3.1.0   \r\n",
      "bokeh                              1.0.4   \r\n",
      "boto                               2.49.0  \r\n",
      "Bottleneck                         1.2.1   \r\n",
      "certifi                            2019.3.9\r\n",
      "cffi                               1.12.2  \r\n",
      "chardet                            3.0.4   \r\n",
      "Click                              7.0     \r\n",
      "cloudpickle                        0.8.0   \r\n",
      "clyent                             1.2.2   \r\n",
      "colorama                           0.4.1   \r\n",
      "conda                              4.6.11  \r\n",
      "conda-build                        3.17.8  \r\n",
      "conda-verify                       3.1.1   \r\n",
      "contextlib2                        0.5.5   \r\n",
      "cryptography                       2.6.1   \r\n",
      "cycler                             0.10.0  \r\n",
      "Cython                             0.29.6  \r\n",
      "cytoolz                            0.9.0.1 \r\n",
      "dask                               1.1.4   \r\n",
      "decorator                          4.4.0   \r\n",
      "defusedxml                         0.5.0   \r\n",
      "distributed                        1.26.0  \r\n",
      "docutils                           0.14    \r\n",
      "entrypoints                        0.3     \r\n",
      "et-xmlfile                         1.0.1   \r\n",
      "fastcache                          1.0.2   \r\n",
      "filelock                           3.0.10  \r\n",
      "Flask                              1.0.2   \r\n",
      "future                             0.17.1  \r\n",
      "gevent                             1.4.0   \r\n",
      "glob2                              0.6     \r\n",
      "gmpy2                              2.0.8   \r\n",
      "greenlet                           0.4.15  \r\n",
      "h5py                               2.9.0   \r\n",
      "heapdict                           1.0.0   \r\n",
      "html5lib                           1.0.1   \r\n",
      "idna                               2.8     \r\n",
      "imageio                            2.5.0   \r\n",
      "imagesize                          1.1.0   \r\n",
      "importlib-metadata                 0.0.0   \r\n",
      "ipykernel                          5.1.0   \r\n",
      "ipython                            7.4.0   \r\n",
      "ipython-genutils                   0.2.0   \r\n",
      "ipywidgets                         7.4.2   \r\n",
      "isort                              4.3.16  \r\n",
      "itsdangerous                       1.1.0   \r\n",
      "jdcal                              1.4     \r\n",
      "jedi                               0.13.3  \r\n",
      "Jinja2                             2.10    \r\n",
      "jsonschema                         3.0.1   \r\n",
      "jupyter                            1.0.0   \r\n",
      "jupyter-client                     5.2.4   \r\n",
      "jupyter-console                    6.0.0   \r\n",
      "jupyter-core                       4.4.0   \r\n",
      "jupyterlab                         0.35.4  \r\n",
      "jupyterlab-server                  0.2.0   \r\n",
      "keyring                            18.0.0  \r\n",
      "kiwisolver                         1.0.1   \r\n",
      "lazy-object-proxy                  1.3.1   \r\n",
      "libarchive-c                       2.8     \r\n",
      "lief                               0.9.0   \r\n",
      "llvmlite                           0.28.0  \r\n",
      "locket                             0.2.0   \r\n",
      "lxml                               4.3.2   \r\n",
      "MarkupSafe                         1.1.1   \r\n",
      "matplotlib                         3.0.3   \r\n",
      "mccabe                             0.6.1   \r\n",
      "mistune                            0.8.4   \r\n",
      "mkl-fft                            1.0.10  \r\n",
      "mkl-random                         1.0.2   \r\n",
      "more-itertools                     6.0.0   \r\n",
      "mpmath                             1.1.0   \r\n",
      "msgpack                            0.6.1   \r\n",
      "multipledispatch                   0.6.0   \r\n",
      "navigator-updater                  0.2.1   \r\n",
      "nbconvert                          5.4.1   \r\n",
      "nbformat                           4.4.0   \r\n",
      "networkx                           2.2     \r\n",
      "nltk                               3.4     \r\n",
      "nose                               1.3.7   \r\n",
      "notebook                           5.7.8   \r\n",
      "numba                              0.43.1  \r\n",
      "numexpr                            2.6.9   \r\n",
      "numpy                              1.16.2  \r\n",
      "numpydoc                           0.8.0   \r\n",
      "olefile                            0.46    \r\n",
      "openpyxl                           2.6.1   \r\n",
      "packaging                          19.0    \r\n",
      "pandas                             0.24.2  \r\n",
      "pandocfilters                      1.4.2   \r\n",
      "parso                              0.3.4   \r\n",
      "partd                              0.3.10  \r\n",
      "path.py                            11.5.0  \r\n",
      "pathlib2                           2.3.3   \r\n",
      "patsy                              0.5.1   \r\n",
      "pep8                               1.7.1   \r\n",
      "pexpect                            4.6.0   \r\n",
      "pickleshare                        0.7.5   \r\n",
      "Pillow                             5.4.1   \r\n",
      "pip                                19.0.3  \r\n",
      "pkginfo                            1.5.0.1 \r\n",
      "pluggy                             0.9.0   \r\n",
      "ply                                3.11    \r\n",
      "prometheus-client                  0.6.0   \r\n",
      "prompt-toolkit                     2.0.9   \r\n",
      "psutil                             5.6.1   \r\n",
      "ptyprocess                         0.6.0   \r\n",
      "py                                 1.8.0   \r\n",
      "pycodestyle                        2.5.0   \r\n",
      "pycosat                            0.6.3   \r\n",
      "pycparser                          2.19    \r\n",
      "pycrypto                           2.6.1   \r\n",
      "pycurl                             7.43.0.2\r\n",
      "pyflakes                           2.1.1   \r\n",
      "Pygments                           2.3.1   \r\n",
      "pylint                             2.3.1   \r\n",
      "pyodbc                             4.0.26  \r\n",
      "pyOpenSSL                          19.0.0  \r\n",
      "pyparsing                          2.3.1   \r\n",
      "pyrsistent                         0.14.11 \r\n",
      "PySocks                            1.6.8   \r\n",
      "pytest                             4.3.1   \r\n",
      "pytest-arraydiff                   0.3     \r\n",
      "pytest-astropy                     0.5.0   \r\n",
      "pytest-doctestplus                 0.3.0   \r\n",
      "pytest-openfiles                   0.3.2   \r\n",
      "pytest-remotedata                  0.3.1   \r\n",
      "python-dateutil                    2.8.0   \r\n",
      "pytz                               2018.9  \r\n",
      "PyWavelets                         1.0.2   \r\n",
      "PyYAML                             5.1     \r\n",
      "pyzmq                              18.0.0  \r\n",
      "QtAwesome                          0.5.7   \r\n",
      "qtconsole                          4.4.3   \r\n",
      "QtPy                               1.7.0   \r\n",
      "requests                           2.21.0  \r\n",
      "rope                               0.12.0  \r\n",
      "ruamel-yaml                        0.15.46 \r\n",
      "scikit-image                       0.14.2  \r\n",
      "scikit-learn                       0.20.3  \r\n",
      "scipy                              1.2.1   \r\n",
      "seaborn                            0.9.0   \r\n",
      "Send2Trash                         1.5.0   \r\n",
      "setuptools                         40.8.0  \r\n",
      "simplegeneric                      0.8.1   \r\n",
      "singledispatch                     3.4.0.3 \r\n",
      "six                                1.12.0  \r\n",
      "snowballstemmer                    1.2.1   \r\n",
      "sortedcollections                  1.1.2   \r\n",
      "sortedcontainers                   2.1.0   \r\n",
      "soupsieve                          1.8     \r\n",
      "Sphinx                             1.8.5   \r\n",
      "sphinxcontrib-websupport           1.1.0   \r\n",
      "spyder                             3.3.3   \r\n",
      "spyder-kernels                     0.4.2   \r\n",
      "SQLAlchemy                         1.3.1   \r\n",
      "statsmodels                        0.9.0   \r\n",
      "sympy                              1.3     \r\n",
      "tables                             3.5.1   \r\n",
      "tblib                              1.3.2   \r\n",
      "terminado                          0.8.1   \r\n",
      "testpath                           0.4.2   \r\n",
      "toolz                              0.9.0   \r\n",
      "tornado                            6.0.2   \r\n",
      "tqdm                               4.31.1  \r\n",
      "traitlets                          4.3.2   \r\n",
      "unicodecsv                         0.14.1  \r\n",
      "urllib3                            1.24.1  \r\n",
      "wcwidth                            0.1.7   \r\n",
      "webencodings                       0.5.1   \r\n",
      "Werkzeug                           0.14.1  \r\n",
      "wheel                              0.33.1  \r\n",
      "widgetsnbextension                 3.4.2   \r\n",
      "wrapt                              1.11.1  \r\n",
      "wurlitzer                          1.0.2   \r\n",
      "xlrd                               1.2.0   \r\n",
      "XlsxWriter                         1.1.5   \r\n",
      "xlwings                            0.15.4  \r\n",
      "xlwt                               1.3.0   \r\n",
      "zict                               0.1.4   \r\n",
      "zipp                               0.3.3   \r\n"
     ]
    }
   ],
   "source": [
    "!pip list"
   ]
  },
  {
   "cell_type": "code",
   "execution_count": 108,
   "metadata": {},
   "outputs": [
    {
     "data": {
      "application/json": {
       "cell": {
        "!": "OSMagics",
        "HTML": "Other",
        "SVG": "Other",
        "bash": "Other",
        "capture": "ExecutionMagics",
        "debug": "ExecutionMagics",
        "file": "Other",
        "html": "DisplayMagics",
        "javascript": "DisplayMagics",
        "js": "DisplayMagics",
        "latex": "DisplayMagics",
        "markdown": "DisplayMagics",
        "perl": "Other",
        "prun": "ExecutionMagics",
        "pypy": "Other",
        "python": "Other",
        "python2": "Other",
        "python3": "Other",
        "ruby": "Other",
        "script": "ScriptMagics",
        "sh": "Other",
        "svg": "DisplayMagics",
        "sx": "OSMagics",
        "system": "OSMagics",
        "time": "ExecutionMagics",
        "timeit": "ExecutionMagics",
        "writefile": "OSMagics"
       },
       "line": {
        "alias": "OSMagics",
        "alias_magic": "BasicMagics",
        "autoawait": "AsyncMagics",
        "autocall": "AutoMagics",
        "automagic": "AutoMagics",
        "autosave": "KernelMagics",
        "bookmark": "OSMagics",
        "cat": "Other",
        "cd": "OSMagics",
        "clear": "KernelMagics",
        "colors": "BasicMagics",
        "conda": "PackagingMagics",
        "config": "ConfigMagics",
        "connect_info": "KernelMagics",
        "cp": "Other",
        "debug": "ExecutionMagics",
        "dhist": "OSMagics",
        "dirs": "OSMagics",
        "doctest_mode": "BasicMagics",
        "ed": "Other",
        "edit": "KernelMagics",
        "env": "OSMagics",
        "gui": "BasicMagics",
        "hist": "Other",
        "history": "HistoryMagics",
        "killbgscripts": "ScriptMagics",
        "ldir": "Other",
        "less": "KernelMagics",
        "lf": "Other",
        "lk": "Other",
        "ll": "Other",
        "load": "CodeMagics",
        "load_ext": "ExtensionMagics",
        "loadpy": "CodeMagics",
        "logoff": "LoggingMagics",
        "logon": "LoggingMagics",
        "logstart": "LoggingMagics",
        "logstate": "LoggingMagics",
        "logstop": "LoggingMagics",
        "ls": "Other",
        "lsmagic": "BasicMagics",
        "lx": "Other",
        "macro": "ExecutionMagics",
        "magic": "BasicMagics",
        "man": "KernelMagics",
        "matplotlib": "PylabMagics",
        "mkdir": "Other",
        "more": "KernelMagics",
        "mv": "Other",
        "notebook": "BasicMagics",
        "page": "BasicMagics",
        "pastebin": "CodeMagics",
        "pdb": "ExecutionMagics",
        "pdef": "NamespaceMagics",
        "pdoc": "NamespaceMagics",
        "pfile": "NamespaceMagics",
        "pinfo": "NamespaceMagics",
        "pinfo2": "NamespaceMagics",
        "pip": "PackagingMagics",
        "popd": "OSMagics",
        "pprint": "BasicMagics",
        "precision": "BasicMagics",
        "prun": "ExecutionMagics",
        "psearch": "NamespaceMagics",
        "psource": "NamespaceMagics",
        "pushd": "OSMagics",
        "pwd": "OSMagics",
        "pycat": "OSMagics",
        "pylab": "PylabMagics",
        "qtconsole": "KernelMagics",
        "quickref": "BasicMagics",
        "recall": "HistoryMagics",
        "rehashx": "OSMagics",
        "reload_ext": "ExtensionMagics",
        "rep": "Other",
        "rerun": "HistoryMagics",
        "reset": "NamespaceMagics",
        "reset_selective": "NamespaceMagics",
        "rm": "Other",
        "rmdir": "Other",
        "run": "ExecutionMagics",
        "save": "CodeMagics",
        "sc": "OSMagics",
        "set_env": "OSMagics",
        "store": "StoreMagics",
        "sx": "OSMagics",
        "system": "OSMagics",
        "tb": "ExecutionMagics",
        "time": "ExecutionMagics",
        "timeit": "ExecutionMagics",
        "unalias": "OSMagics",
        "unload_ext": "ExtensionMagics",
        "who": "NamespaceMagics",
        "who_ls": "NamespaceMagics",
        "whos": "NamespaceMagics",
        "xdel": "NamespaceMagics",
        "xmode": "BasicMagics"
       }
      },
      "text/plain": [
       "Available line magics:\n",
       "%alias  %alias_magic  %autoawait  %autocall  %automagic  %autosave  %bookmark  %cat  %cd  %clear  %colors  %conda  %config  %connect_info  %cp  %debug  %dhist  %dirs  %doctest_mode  %ed  %edit  %env  %gui  %hist  %history  %killbgscripts  %ldir  %less  %lf  %lk  %ll  %load  %load_ext  %loadpy  %logoff  %logon  %logstart  %logstate  %logstop  %ls  %lsmagic  %lx  %macro  %magic  %man  %matplotlib  %mkdir  %more  %mv  %notebook  %page  %pastebin  %pdb  %pdef  %pdoc  %pfile  %pinfo  %pinfo2  %pip  %popd  %pprint  %precision  %prun  %psearch  %psource  %pushd  %pwd  %pycat  %pylab  %qtconsole  %quickref  %recall  %rehashx  %reload_ext  %rep  %rerun  %reset  %reset_selective  %rm  %rmdir  %run  %save  %sc  %set_env  %store  %sx  %system  %tb  %time  %timeit  %unalias  %unload_ext  %who  %who_ls  %whos  %xdel  %xmode\n",
       "\n",
       "Available cell magics:\n",
       "%%!  %%HTML  %%SVG  %%bash  %%capture  %%debug  %%file  %%html  %%javascript  %%js  %%latex  %%markdown  %%perl  %%prun  %%pypy  %%python  %%python2  %%python3  %%ruby  %%script  %%sh  %%svg  %%sx  %%system  %%time  %%timeit  %%writefile\n",
       "\n",
       "Automagic is ON, % prefix IS NOT needed for line magics."
      ]
     },
     "execution_count": 108,
     "metadata": {},
     "output_type": "execute_result"
    }
   ],
   "source": [
    "%lsmagic"
   ]
  },
  {
   "cell_type": "code",
   "execution_count": 109,
   "metadata": {},
   "outputs": [
    {
     "data": {
      "text/plain": [
       "'these are called line magics'"
      ]
     },
     "execution_count": 109,
     "metadata": {},
     "output_type": "execute_result"
    }
   ],
   "source": [
    "'these are called line magics'"
   ]
  },
  {
   "cell_type": "code",
   "execution_count": 110,
   "metadata": {},
   "outputs": [
    {
     "data": {
      "text/html": [
       "<h1> This is an \n",
       "HTML code <h1>\n"
      ],
      "text/plain": [
       "<IPython.core.display.HTML object>"
      ]
     },
     "metadata": {},
     "output_type": "display_data"
    }
   ],
   "source": [
    "%%HTML\n",
    "<h1> This is an \n",
    "HTML code <h1>"
   ]
  },
  {
   "cell_type": "code",
   "execution_count": 111,
   "metadata": {},
   "outputs": [
    {
     "data": {
      "text/plain": [
       "'these are called cell magics'"
      ]
     },
     "execution_count": 111,
     "metadata": {},
     "output_type": "execute_result"
    }
   ],
   "source": [
    "'these are called cell magics'"
   ]
  },
  {
   "cell_type": "code",
   "execution_count": 112,
   "metadata": {},
   "outputs": [
    {
     "data": {
      "text/plain": [
       "'/Users/san/code/JupyterNotebooks'"
      ]
     },
     "execution_count": 112,
     "metadata": {},
     "output_type": "execute_result"
    }
   ],
   "source": [
    "%pwd"
   ]
  },
  {
   "cell_type": "code",
   "execution_count": 113,
   "metadata": {},
   "outputs": [],
   "source": [
    "%matplotlib inline"
   ]
  },
  {
   "cell_type": "code",
   "execution_count": 114,
   "metadata": {},
   "outputs": [
    {
     "data": {
      "text/plain": [
       "'I didnot get any error without even executing the above command. the chart showed up fine'"
      ]
     },
     "execution_count": 114,
     "metadata": {},
     "output_type": "execute_result"
    }
   ],
   "source": [
    "'I didnot get any error without even executing the above command. the chart showed up fine'"
   ]
  },
  {
   "cell_type": "code",
   "execution_count": 115,
   "metadata": {},
   "outputs": [
    {
     "data": {
      "image/png": "[encoded data removed]",
      "text/plain": [
       "<Figure size 432x288 with 1 Axes>"
      ]
     },
     "metadata": {
      "needs_background": "light"
     },
     "output_type": "display_data"
    }
   ],
   "source": [
    "\"\"\"\n",
    "This is a Sample matplotlib chart\n",
    "\"\"\"\n",
    "import numpy as np\n",
    "import matplotlib.pyplot as plt\n",
    "\n",
    "n= 50\n",
    "height = np.random.rand(n)\n",
    "weight = np.random.rand(n)\n",
    "area = np.pi * ( 15 * np.random.rand(n) ) ** 2 \n",
    "colors = np.random.rand(n)\n",
    "\n",
    "plt.scatter(height,weight,s=area,c=colors, alpha=0.5)\n",
    "plt.show()"
   ]
  },
  {
   "cell_type": "code",
   "execution_count": 116,
   "metadata": {},
   "outputs": [
    {
     "data": {
      "text/html": [
       "<iframe width=\"560\" height =\"315\" src=\"https://www.youtube.com/embed/HW29067qVWk\" frameborder=\"0\" allowFullScreen></iFrame>\n"
      ],
      "text/plain": [
       "<IPython.core.display.HTML object>"
      ]
     },
     "metadata": {},
     "output_type": "display_data"
    }
   ],
   "source": [
    "%%HTML\n",
    "<iframe width=\"560\" height =\"315\" src=\"https://www.youtube.com/embed/HW29067qVWk\" frameborder=\"0\" allowFullScreen></iFrame>"
   ]
  },
  {
   "cell_type": "code",
   "execution_count": 117,
   "metadata": {},
   "outputs": [
    {
     "data": {
      "text/plain": [
       "'Change the url from watch to embed as above example to make sure display the video in iframe'"
      ]
     },
     "execution_count": 117,
     "metadata": {},
     "output_type": "execute_result"
    }
   ],
   "source": [
    "'Change the url from watch to embed as above example to make sure display the video in iframe'"
   ]
  },
  {
   "cell_type": "code",
   "execution_count": 118,
   "metadata": {},
   "outputs": [
    {
     "name": "stdout",
     "output_type": "stream",
     "text": [
      "408 ns ± 19.1 ns per loop (mean ± std. dev. of 7 runs, 1000000 loops each)\n"
     ]
    }
   ],
   "source": [
    "%%timeit\n",
    "square_evens = (n*n for n in range(1000))"
   ]
  },
  {
   "cell_type": "code",
   "execution_count": 119,
   "metadata": {},
   "outputs": [
    {
     "data": {
      "text/plain": [
       "'Used to know the time of run. Useful to know how different functions took how much time'"
      ]
     },
     "execution_count": 119,
     "metadata": {},
     "output_type": "execute_result"
    }
   ],
   "source": [
    "'Used to know the time of run. Useful to know how different functions took how much time'"
   ]
  },
  {
   "cell_type": "code",
   "execution_count": 120,
   "metadata": {},
   "outputs": [
    {
     "data": {
      "text/html": [
       "<div>\n",
       "<style scoped>\n",
       "    .dataframe tbody tr th:only-of-type {\n",
       "        vertical-align: middle;\n",
       "    }\n",
       "\n",
       "    .dataframe tbody tr th {\n",
       "        vertical-align: top;\n",
       "    }\n",
       "\n",
       "    .dataframe thead th {\n",
       "        text-align: right;\n",
       "    }\n",
       "</style>\n",
       "<table border=\"1\" class=\"dataframe\">\n",
       "  <thead>\n",
       "    <tr style=\"text-align: right;\">\n",
       "      <th></th>\n",
       "      <th>0</th>\n",
       "      <th>1</th>\n",
       "      <th>2</th>\n",
       "      <th>3</th>\n",
       "    </tr>\n",
       "  </thead>\n",
       "  <tbody>\n",
       "    <tr>\n",
       "      <th>0</th>\n",
       "      <td>0.565889</td>\n",
       "      <td>0.243456</td>\n",
       "      <td>0.215608</td>\n",
       "      <td>0.703701</td>\n",
       "    </tr>\n",
       "    <tr>\n",
       "      <th>1</th>\n",
       "      <td>0.608677</td>\n",
       "      <td>0.291756</td>\n",
       "      <td>-1.334635</td>\n",
       "      <td>0.814699</td>\n",
       "    </tr>\n",
       "    <tr>\n",
       "      <th>2</th>\n",
       "      <td>1.780997</td>\n",
       "      <td>2.253946</td>\n",
       "      <td>2.065466</td>\n",
       "      <td>0.212504</td>\n",
       "    </tr>\n",
       "    <tr>\n",
       "      <th>3</th>\n",
       "      <td>-1.997904</td>\n",
       "      <td>0.073572</td>\n",
       "      <td>0.718761</td>\n",
       "      <td>-0.609709</td>\n",
       "    </tr>\n",
       "    <tr>\n",
       "      <th>4</th>\n",
       "      <td>-0.167682</td>\n",
       "      <td>1.975830</td>\n",
       "      <td>1.516408</td>\n",
       "      <td>-1.218718</td>\n",
       "    </tr>\n",
       "    <tr>\n",
       "      <th>5</th>\n",
       "      <td>-0.727265</td>\n",
       "      <td>-0.185124</td>\n",
       "      <td>1.348450</td>\n",
       "      <td>-0.875482</td>\n",
       "    </tr>\n",
       "    <tr>\n",
       "      <th>6</th>\n",
       "      <td>0.267590</td>\n",
       "      <td>-0.293498</td>\n",
       "      <td>-0.862608</td>\n",
       "      <td>0.242997</td>\n",
       "    </tr>\n",
       "    <tr>\n",
       "      <th>7</th>\n",
       "      <td>-0.581316</td>\n",
       "      <td>-0.196453</td>\n",
       "      <td>-1.089676</td>\n",
       "      <td>0.569180</td>\n",
       "    </tr>\n",
       "    <tr>\n",
       "      <th>8</th>\n",
       "      <td>0.480584</td>\n",
       "      <td>-0.056994</td>\n",
       "      <td>-1.286523</td>\n",
       "      <td>-1.357508</td>\n",
       "    </tr>\n",
       "    <tr>\n",
       "      <th>9</th>\n",
       "      <td>-0.581924</td>\n",
       "      <td>0.067716</td>\n",
       "      <td>-1.692044</td>\n",
       "      <td>-1.475485</td>\n",
       "    </tr>\n",
       "  </tbody>\n",
       "</table>\n",
       "</div>"
      ],
      "text/plain": [
       "          0         1         2         3\n",
       "0  0.565889  0.243456  0.215608  0.703701\n",
       "1  0.608677  0.291756 -1.334635  0.814699\n",
       "2  1.780997  2.253946  2.065466  0.212504\n",
       "3 -1.997904  0.073572  0.718761 -0.609709\n",
       "4 -0.167682  1.975830  1.516408 -1.218718\n",
       "5 -0.727265 -0.185124  1.348450 -0.875482\n",
       "6  0.267590 -0.293498 -0.862608  0.242997\n",
       "7 -0.581316 -0.196453 -1.089676  0.569180\n",
       "8  0.480584 -0.056994 -1.286523 -1.357508\n",
       "9 -0.581924  0.067716 -1.692044 -1.475485"
      ]
     },
     "execution_count": 120,
     "metadata": {},
     "output_type": "execute_result"
    }
   ],
   "source": [
    "import pandas as pd\n",
    "import numpy as np\n",
    "\n",
    "pd = pd.DataFrame(np.random.randn(10,4))\n",
    "pd\n",
    "#pd.head() This displays on first five rows"
   ]
  },
  {
   "cell_type": "code",
   "execution_count": null,
   "metadata": {},
   "outputs": [],
   "source": []
  }
 ],
 "metadata": {
  "kernelspec": {
   "display_name": "Python 3",
   "language": "python",
   "name": "python3"
  },
  "language_info": {
   "codemirror_mode": {
    "name": "ipython",
    "version": 3
   },
   "file_extension": ".py",
   "mimetype": "text/x-python",
   "name": "python",
   "nbconvert_exporter": "python",
   "pygments_lexer": "ipython3",
   "version": "3.7.3"
  }
 },
 "nbformat": 4,
 "nbformat_minor": 2
}
